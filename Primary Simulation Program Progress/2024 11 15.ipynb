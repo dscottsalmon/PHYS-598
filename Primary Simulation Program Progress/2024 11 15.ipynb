{
 "cells": [
  {
   "cell_type": "code",
   "execution_count": 25,
   "metadata": {},
   "outputs": [],
   "source": [
    "import numpy as np\n",
    "import sys\n",
    "import matplotlib.pyplot as plt\n",
    "import scipy as sp\n"
   ]
  },
  {
   "cell_type": "markdown",
   "metadata": {},
   "source": [
    "- look at configs and see if trends visible\n",
    "- compare with square\n",
    "- correlated expectation values (read up)"
   ]
  },
  {
   "cell_type": "markdown",
   "metadata": {},
   "source": [
    "Step 1: Define the Lattice Structure\n",
    "- Lattice Shape (number indicates a dipole exists, 0 indicates no dipole)\n",
    "- Spin states (each dipole will be represented by an entry in the lattice with a value of either +1 or -1)\n",
    "\n",
    "Step 2: Hamiltonian Construction\n",
    "\n",
    "- The hamiltonian describes the total energy of the system, accounting for interactions between neightboring spins. The enerrgy interaction between two neightboring spins is typically proportional to the product of their spin states (i.e. $H = -J\\sum S_iS_j$, where $J$ is a coupling constant and $S_i$ and $S_j$ are the spin states of neighbors.)\n",
    "- Once lattice is constructed, we need to filter out which dipoles are neighbors. For a 2D array, a dipole can interact with its left, right, top, below, top right, top left, bottom right, bottom left neighbors.\n",
    "\n",
    "Step 3: Calculate total energy\n",
    "\n",
    "- Use $H = -J\\sum S_iS_j$ formula and sum up the energy contributions from every dipole in the lattice to determine the \"total energy\""
   ]
  },
  {
   "cell_type": "code",
   "execution_count": 26,
   "metadata": {},
   "outputs": [
    {
     "name": "stdout",
     "output_type": "stream",
     "text": [
      "Spin Lattice:\n",
      " [[1 1 1]\n",
      " [1 1 1]\n",
      " [1 1 1]]\n",
      "\n",
      "Total Energy (periodic boundary) : 27\n",
      "\n",
      "Bit String:  [1 1 1 1 1 1 1 1 1]\n"
     ]
    }
   ],
   "source": [
    "def lattice_generator(x, N, M):\n",
    "    bits = N * M\n",
    "    # Convert integer x to binary representation, zero-padded to fit N*M bits\n",
    "    if len(bin(x)[2:]) > bits:\n",
    "        sys.exit(\"Error: Maximum is greater than lattice shape. Please try a lower maximum.\")\n",
    "    return np.array([int(i) for i in bin(x)[2:].zfill(bits)])\n",
    "\n",
    "def hamiltonian_boundary(spin_lattice, J):\n",
    "    total_energy = 0\n",
    "    rows, cols = spin_lattice.shape\n",
    "\n",
    "    for i in range(rows):\n",
    "        for j in range(cols):\n",
    "            # Consider only if the current index is a spin\n",
    "            if spin_lattice[i][j] != 0:\n",
    "                # Neighbors with periodic boundary conditions\n",
    "                neighbors = [\n",
    "                    ((i + 0) % rows, (j + 1) % cols),  # Right\n",
    "                    ((i + 1) % rows, (j + 0) % cols),  # Down\n",
    "                    ((i + 1) % rows, (j + 1) % cols),  # Down-Right\n",
    "                ]\n",
    "                \n",
    "                for ni, nj in neighbors:\n",
    "                    total_energy += J * spin_lattice[i][j] * spin_lattice[ni][nj]\n",
    "\n",
    "    return total_energy\n",
    "\n",
    "# Lattice size\n",
    "N = 3\n",
    "M = 3\n",
    "maximum = 511 #2^9-1\n",
    "\n",
    "bit_string = lattice_generator(maximum, N, M) #101011110\n",
    "spin_lattice = bit_string.reshape(N, M)\n",
    "spin_lattice = np.where(spin_lattice == 0, -1, 1) # Convert 0 to 1 (up spin) and 1 to -1 (down spin)\n",
    "\n",
    "J = 1\n",
    "total_energy = hamiltonian_boundary(spin_lattice, J)\n",
    "\n",
    "print(\"Spin Lattice:\\n\", spin_lattice)\n",
    "print(\"\\nTotal Energy (periodic boundary) :\", total_energy)\n",
    "print(\"\\nBit String: \", bit_string)"
   ]
  },
  {
   "cell_type": "code",
   "execution_count": 27,
   "metadata": {},
   "outputs": [
    {
     "name": "stdout",
     "output_type": "stream",
     "text": [
      "Spin Lattice:\n",
      " [[-1 -1 -1 -1 -1 -1 -1 -1 -1]\n",
      " [-1 -1 -1 -1 -1 -1 -1 -1 -1]\n",
      " [-1 -1 -1  1 -1 -1  1  1 -1]\n",
      " [-1 -1 -1  1  1  1 -1 -1  1]\n",
      " [ 1  1 -1 -1 -1 -1 -1  1 -1]\n",
      " [ 1 -1  1 -1 -1 -1  1 -1 -1]]\n",
      "\n",
      "Total Energy (periodic boundary) : 46\n",
      "\n",
      "Bit String:  [0 0 0 0 0 0 0 0 0 0 0 0 0 0 0 0 0 0 0 0 0 1 0 0 1 1 0 0 0 0 1 1 1 0 0 1 1\n",
      " 1 0 0 0 0 0 1 0 1 0 1 0 0 0 1 0 0]\n"
     ]
    }
   ],
   "source": [
    "# Lattice size\n",
    "N = 6\n",
    "M = 9\n",
    "maximum = 5115413828\n",
    "\n",
    "bit_string = lattice_generator(maximum, N, M)\n",
    "spin_lattice = bit_string.reshape(N, M)\n",
    "spin_lattice = np.where(spin_lattice == 0, -1, 1) # Convert 0 to 1 (up spin) and 1 to -1 (down spin)\n",
    "\n",
    "J = 1\n",
    "total_energy = hamiltonian_boundary(spin_lattice, J)\n",
    "\n",
    "print(\"Spin Lattice:\\n\", spin_lattice)\n",
    "print(\"\\nTotal Energy (periodic boundary) :\", total_energy)\n",
    "print(\"\\nBit String: \", bit_string)"
   ]
  },
  {
   "cell_type": "code",
   "execution_count": null,
   "metadata": {},
   "outputs": [
    {
     "name": "stdout",
     "output_type": "stream",
     "text": [
      "15\n",
      "Max Bit String:  [1 1 1 1]\n",
      "The minimum energy found was -4. It was found 6 times.\n",
      "The given bit string integer(s) were: [3, 5, 6, 9, 10, 12]\n"
     ]
    }
   ],
   "source": [
    "# Lattice size\n",
    "N = 2\n",
    "M = 2\n",
    "\n",
    "# calculates 2^n - 1\n",
    "maximum = 2**(M*N)-1\n",
    "print(maximum)\n",
    "bit_string = lattice_generator(maximum, N, M)\n",
    "print(\"Max Bit String: \", bit_string)\n",
    "\n",
    "def lowest_energy(N, M, maximum):\n",
    "    bit_strings = []\n",
    "    lattice_list = []\n",
    "    count = 0\n",
    "    minimum_energy = float('inf')  # Initialize to a large value\n",
    "    \n",
    "    for i in range(0,maximum+1):\n",
    "        bit_string = lattice_generator(i, N, M)\n",
    "        spin_lattice = bit_string.reshape(N, M)\n",
    "        spin_lattice = np.where(spin_lattice == 0, -1, 1)  # Convert 0 to -1 (spin down), 1 to 1 (spin up)\n",
    "        J = 1\n",
    "        total_energy = hamiltonian_boundary(spin_lattice, J)\n",
    "\n",
    "        # Check if the current configuration has lower or equal energy\n",
    "        if total_energy < minimum_energy:\n",
    "            minimum_energy = total_energy\n",
    "            bit_strings = [bit_string]  # Reset with the new lowest\n",
    "            lattice_list = [i]\n",
    "            count = 1\n",
    "        elif total_energy == minimum_energy:\n",
    "            bit_strings.append(bit_string)\n",
    "            lattice_list.append(i)\n",
    "            count += 1\n",
    "    \n",
    "    return count, bit_strings, minimum_energy, lattice_list\n",
    "\n",
    "\n",
    "count, bitstrings, minimum_energy, latticelist = lowest_energy(N,M,maximum)\n",
    "#print(bitstrings)\n",
    "\n",
    "print(\"The minimum energy found was %i. It was found %i times.\"%(minimum_energy, count))\n",
    "print(\"The given bit string integer(s) were:\", latticelist)\n",
    "# print(latticelist)\n",
    "# print(minimum_energy, count)"
   ]
  },
  {
   "cell_type": "code",
   "execution_count": 29,
   "metadata": {},
   "outputs": [
    {
     "name": "stdout",
     "output_type": "stream",
     "text": [
      "The minimum energy found was -4. It was found 6 times.\n",
      "The given bit string integer(s) were: [3, 5, 6, 9, 10, 12]\n",
      "\n",
      "Average Spin Lattice (averaged over all configurations with minimum energy):\n",
      "[[0.5 0.5]\n",
      " [0.5 0.5]]\n"
     ]
    }
   ],
   "source": [
    "def average_lattice(bitstrings, N, M):\n",
    "    # Convert bitstrings into NumPy arrays and reshape each to (N, M)\n",
    "    lattices = [bitstring.reshape(N, M) for bitstring in bitstrings]\n",
    "    \n",
    "    # Stack the lattices into a 3D array (each lattice as a new \"layer\")\n",
    "    lattices_stack = np.array(lattices)\n",
    "    \n",
    "    # Compute the average across the first axis (over all configurations)\n",
    "    average_lattice = np.mean(lattices_stack, axis=0)\n",
    "    \n",
    "    return average_lattice\n",
    "\n",
    "# Example usage of the functions\n",
    "count, bitstrings, minimum_energy, latticelist = lowest_energy(N, M, maximum)\n",
    "\n",
    "print(f\"The minimum energy found was {minimum_energy}. It was found {count} times.\")\n",
    "print(\"The given bit string integer(s) were:\", latticelist)\n",
    "\n",
    "# Compute the average lattice\n",
    "average = average_lattice(bitstrings, N, M)\n",
    "\n",
    "print(\"\\nAverage Spin Lattice (averaged over all configurations with minimum energy):\")\n",
    "print(average)"
   ]
  }
 ],
 "metadata": {
  "kernelspec": {
   "display_name": "Python 3",
   "language": "python",
   "name": "python3"
  },
  "language_info": {
   "codemirror_mode": {
    "name": "ipython",
    "version": 3
   },
   "file_extension": ".py",
   "mimetype": "text/x-python",
   "name": "python",
   "nbconvert_exporter": "python",
   "pygments_lexer": "ipython3",
   "version": "3.12.7"
  }
 },
 "nbformat": 4,
 "nbformat_minor": 2
}
