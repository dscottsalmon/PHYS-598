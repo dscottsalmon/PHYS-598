{
 "cells": [
  {
   "cell_type": "code",
   "execution_count": 104,
   "metadata": {},
   "outputs": [],
   "source": [
    "import numpy as np\n",
    "import sys\n",
    "import matplotlib.pyplot as plt\n",
    "import scipy as sp"
   ]
  },
  {
   "cell_type": "markdown",
   "metadata": {},
   "source": []
  },
  {
   "cell_type": "markdown",
   "metadata": {},
   "source": [
    "Step 1: Define the Lattice Structure\n",
    "- Lattice Shape (number indicates a dipole exists, 0 indicates no dipole)\n",
    "- Spin states (each dipole will be represented by an entry in the lattice with a value of either +1 or -1)\n",
    "\n",
    "Step 2: Hamiltonian Construction\n",
    "\n",
    "- The hamiltonian describes the total energy of the system, accounting for interactions between neightboring spins. The enerrgy interaction between two neightboring spins is typically proportional to the product of their spin states (i.e. $H = -J\\sum S_iS_j$, where $J$ is a coupling constant and $S_i$ and $S_j$ are the spin states of neighbors.)\n",
    "- Once lattice is constructed, we need to filter out which dipoles are neighbors. For a 2D array, a dipole can interact with its left, right, top, below, top right, top left, bottom right, bottom left neighbors.\n",
    "\n",
    "Step 3: Calculate total energy\n",
    "\n",
    "- Use $H = -J\\sum S_iS_j$ formula and sum up the energy contributions from every dipole in the lattice to determine the \"total energy\""
   ]
  },
  {
   "cell_type": "code",
   "execution_count": 105,
   "metadata": {},
   "outputs": [
    {
     "name": "stdout",
     "output_type": "stream",
     "text": [
      "Spin Lattice:\n",
      " [[1 1 1]\n",
      " [1 1 1]\n",
      " [1 1 1]]\n",
      "\n",
      "Total Energy (periodic boundary) : -27\n",
      "\n",
      "Bit String:  [0 0 0 0 0 0 0 0 0]\n"
     ]
    }
   ],
   "source": [
    "def lattice_generator(x, N, M):\n",
    "    bits = N * M\n",
    "    # Convert integer x to binary representation, zero-padded to fit N*M bits\n",
    "    if len(bin(x)[2:]) > bits:\n",
    "        sys.exit(\"Error: Maximum is greater than lattice shape. Please try a lower maximum.\")\n",
    "    return np.array([int(i) for i in bin(x)[2:].zfill(bits)])\n",
    "\n",
    "def hamiltonian_boundary(spin_lattice, J):\n",
    "    total_energy = 0\n",
    "    rows, cols = spin_lattice.shape\n",
    "\n",
    "    for i in range(rows):\n",
    "        for j in range(cols):\n",
    "            # Consider only if the current index is a spin\n",
    "            if spin_lattice[i][j] != 0:\n",
    "                # Neighbors with periodic boundary conditions\n",
    "                neighbors = [\n",
    "                    ((i + 0) % rows, (j + 1) % cols),  # Right\n",
    "                    ((i + 1) % rows, (j + 0) % cols),  # Down\n",
    "                    ((i + 1) % rows, (j + 1) % cols),  # Down-Right\n",
    "                ]\n",
    "                for ni, nj in neighbors:\n",
    "                    total_energy += -J * spin_lattice[i][j] * spin_lattice[ni][nj]\n",
    "\n",
    "    return total_energy\n",
    "\n",
    "# Lattice size\n",
    "N = 3\n",
    "M = 3\n",
    "maximum = 511 #2^9-1\n",
    "\n",
    "bit_string = lattice_generator(0, N, M) \n",
    "spin_lattice = bit_string.reshape(N, M)\n",
    "spin_lattice = np.where(spin_lattice == 0, 1, -1) # Convert 0 to 1 (up spin) and 1 to -1 (down spin)\n",
    "\n",
    "J = 1\n",
    "total_energy = hamiltonian_boundary(spin_lattice, J)\n",
    "\n",
    "print(\"Spin Lattice:\\n\", spin_lattice)\n",
    "print(\"\\nTotal Energy (periodic boundary) :\", total_energy)\n",
    "print(\"\\nBit String: \", bit_string)"
   ]
  },
  {
   "cell_type": "code",
   "execution_count": 106,
   "metadata": {},
   "outputs": [
    {
     "name": "stdout",
     "output_type": "stream",
     "text": [
      "Spin Lattice:\n",
      " [[ 1  1  1  1  1  1  1  1  1]\n",
      " [ 1  1  1  1  1  1  1  1  1]\n",
      " [ 1  1  1  1  1  1  1 -1 -1]\n",
      " [-1 -1  1  1 -1 -1 -1 -1 -1]\n",
      " [ 1 -1 -1  1  1  1  1  1  1]\n",
      " [ 1 -1  1  1  1  1 -1 -1  1]]\n",
      "\n",
      "Total Energy (periodic boundary) : -62\n",
      "\n",
      "Bit String:  [0 0 0 0 0 0 0 0 0 0 0 0 0 0 0 0 0 0 0 0 0 0 0 0 0 1 1 1 1 0 0 1 1 1 1 1 0\n",
      " 1 1 0 0 0 0 0 0 0 1 0 0 0 0 1 1 0]\n"
     ]
    }
   ],
   "source": [
    "# Lattice size\n",
    "N = 6\n",
    "M = 9\n",
    "maximum = 511541382\n",
    "\n",
    "bit_string = lattice_generator(maximum, N, M) #101011110\n",
    "spin_lattice = bit_string.reshape(N, M)\n",
    "spin_lattice = np.where(spin_lattice == 0, 1, -1) # Convert 0 to 1 (up spin) and 1 to -1 (down spin)\n",
    "\n",
    "J = 1\n",
    "total_energy = hamiltonian_boundary(spin_lattice, J)\n",
    "\n",
    "print(\"Spin Lattice:\\n\", spin_lattice)\n",
    "print(\"\\nTotal Energy (periodic boundary) :\", total_energy)\n",
    "print(\"\\nBit String: \", bit_string)"
   ]
  },
  {
   "cell_type": "code",
   "execution_count": 107,
   "metadata": {},
   "outputs": [
    {
     "name": "stdout",
     "output_type": "stream",
     "text": [
      "The minimum energy found was -4. It was found 6 times.\n",
      "The given bit string integer(s) were: [3, 5, 6, 9, 10, 12]\n"
     ]
    }
   ],
   "source": [
    "def lowest_energy(N, M):\n",
    "    maximum = (1 << (N*M)) - 1\n",
    "    bit_strings = []\n",
    "    lattice_list = []\n",
    "    count = 0\n",
    "    minimum_energy = float('inf')  # Initialize to a large value\n",
    "    \n",
    "    for i in range(maximum):\n",
    "        bit_string = lattice_generator(i, N, M)\n",
    "        spin_lattice = bit_string.reshape(N, M)\n",
    "        spin_lattice = np.where(spin_lattice == 0, 1, -1) # Convert 0 to 1 (up spin) and 1 to -1 (down spin)\n",
    "        J = -1\n",
    "        total_energy = hamiltonian_boundary(spin_lattice, J)\n",
    "        \n",
    "        # Check if the current configuration has lower or equal energy\n",
    "        if total_energy < minimum_energy:\n",
    "            minimum_energy = total_energy\n",
    "            bit_strings = [bit_string]  # Reset with the new lowest\n",
    "            lattice_list = [i]\n",
    "            count = 1\n",
    "    \n",
    "        elif total_energy == minimum_energy:\n",
    "            bit_strings.append(bit_string)\n",
    "            lattice_list.append(i)\n",
    "            count += 1\n",
    "    \n",
    "    return count, bit_strings, minimum_energy, lattice_list\n",
    "\n",
    "# Lattice size\n",
    "N = 2\n",
    "M = 2\n",
    "\n",
    "count, bitstrings, minimum_energy, latticelist = lowest_energy(N,M)\n",
    "\n",
    "print(\"The minimum energy found was %i. It was found %i times.\"%(minimum_energy, count))\n",
    "print(\"The given bit string integer(s) were:\", latticelist)"
   ]
  },
  {
   "cell_type": "code",
   "execution_count": null,
   "metadata": {},
   "outputs": [
    {
     "name": "stdout",
     "output_type": "stream",
     "text": [
      "Spin lattice configuration 1:\n",
      "[1 1]\n",
      "\n",
      "Spin lattice configuration 2:\n",
      "[ 1 -1]\n",
      "\n",
      "Spin lattice configuration 3:\n",
      "[ 1 -1]\n",
      "\n",
      "Spin lattice configuration 4:\n",
      "[-1  1]\n",
      "\n",
      "Spin lattice configuration 5:\n",
      "[-1  1]\n",
      "\n",
      "Spin lattice configuration 6:\n",
      "[-1 -1]\n",
      "\n",
      "Correlation between spins at indices 0 and 1: -1.00\n"
     ]
    }
   ],
   "source": [
    "def example(bitstrings):\n",
    "    \n",
    "    updown = np.array([0,1])\n",
    "    \n",
    "    alpha = [1,2,2,1]\n",
    "    norm = np.sqrt(len(bitstrings))\n",
    "    alphas_normalized = np.array(alpha) / norm  # Normalize amplitudes\n",
    "    probabilities = np.abs(alphas_normalized)**2  # Probability is the square of the amplitude\n",
    "        \n",
    "    # Initialize the correlation sum\n",
    "    correlation_sum = 0.0\n",
    "    counter = 0\n",
    "    for i in updown:\n",
    "        for j in updown:\n",
    "            correlation_sum += probabilities[counter]*(-1)**i*(-1)**j\n",
    "            counter += 1\n",
    "    \n",
    "    # Return the total correlation (average product of spins)\n",
    "    return correlation_sum\n",
    "\n",
    "bitstrings = np.array([\n",
    "    [0, 0],  # Up, Up\n",
    "    [0, 1],  # Up, Down\n",
    "    [0, 1],  # Up, Down\n",
    "    [1, 0],  # Down, Up\n",
    "    [1, 0],  # Down, Up\n",
    "    [1, 1],  # Down, Down\n",
    "])\n",
    "\n",
    "# Compute the correlation between spins at indices 0 and 1\n",
    "index1, index2 = 0, 1\n",
    "correlation = example(bitstrings, index1, index2)\n",
    "\n",
    "spin_lattices = []\n",
    "for i, bitstring in enumerate(bitstrings):\n",
    "    spin_lattice = np.where(bitstring == 0, 1, -1)  # Convert 0 to +1 (up), 1 to -1 (down)\n",
    "    spin_lattices.append(spin_lattice)\n",
    "\n",
    "# Print the lattices\n",
    "for i, spin_lattice in enumerate(spin_lattices):\n",
    "    print(f\"Spin lattice configuration {i+1}:\\n{spin_lattice}\\n\")\n",
    "    \n",
    "print(\"Correlation between spins at indices {} and {}: {:.2f}\".format(index1, index2, correlation))"
   ]
  },
  {
   "cell_type": "code",
   "execution_count": null,
   "metadata": {},
   "outputs": [
    {
     "name": "stdout",
     "output_type": "stream",
     "text": [
      "All combinations for n = 2:\n",
      " [[0 0]\n",
      " [0 1]\n",
      " [1 0]\n",
      " [1 1]] \n",
      "\n",
      "All combinations for n = 3:\n",
      " [[0 0 0]\n",
      " [0 1 0]\n",
      " [1 0 0]\n",
      " [1 1 0]\n",
      " [0 0 1]\n",
      " [0 1 1]\n",
      " [1 0 1]\n",
      " [1 1 1]]\n"
     ]
    }
   ],
   "source": [
    "def index_combinations(spin_states, num_spins):\n",
    "\n",
    "    #example usage of this function, with spin_states = [0,1] and n = 3\n",
    "\n",
    "    #[spin_states] * num_spins = [[0,1]] * 3 = [[0,1], [0,1], [0,1]]\n",
    "\n",
    "    #the *[spinstates]*num_spins unpacks this result, so we get np.meshgrid([[0,1], [0,1], [0,1]])\n",
    "\n",
    "    #np.meshgrid([[0,1], [0,1], [0,1]]) makes the Cartesian product of possible spin configs for n = 3 (i.e. all combinations of 0s and 1s)\n",
    "\n",
    "    #.T transposes the 3D array to ensure each combination of spins is represented as a row\n",
    "\n",
    "    #.reshape flattens the resulting array into a 2d array where each row is a unique combination of spins\n",
    "    \n",
    "    return np.array(np.meshgrid(*[spin_states] * num_spins)).T.reshape(-1, num_spins)\n",
    "\n",
    "# Example usage\n",
    "spin_states = [0, 1]  # Possible spin states (0 = up, 1 = down)\n",
    "n = 2  # Number of spins\n",
    "\n",
    "# Get all combinations for n spins\n",
    "combinations = index_combinations(spin_states, n)\n",
    "\n",
    "# Print the combinations\n",
    "print(\"All combinations for n = 2:\\n\", combinations,\"\\n\")\n",
    "\n",
    "# Example usage\n",
    "spin_states = [0, 1]  # Possible spin states (0 = up, 1 = down)\n",
    "n = 3  # Number of spins\n",
    "\n",
    "# Get all combinations for n spins\n",
    "combinations = index_combinations(spin_states, n)\n",
    "\n",
    "# Print the combinations\n",
    "print(\"All combinations for n = 3:\\n\", combinations)\n"
   ]
  },
  {
   "cell_type": "code",
   "execution_count": 134,
   "metadata": {},
   "outputs": [
    {
     "name": "stdout",
     "output_type": "stream",
     "text": [
      "Correlation between spins at indices 0 and 1: -1.00\n"
     ]
    }
   ],
   "source": [
    "def example2(bitstrings, index1, index2):\n",
    "    \n",
    "    num_spins = len(bitstrings[0])\n",
    "    alpha = [1,2,2,1]\n",
    "    norm = np.sqrt(len(bitstrings))\n",
    "    alphas_normalized = np.array(alpha) / norm  # Normalize amplitudes\n",
    "    probabilities = np.abs(alphas_normalized)**2  # Probability is the square of the amplitude\n",
    "        \n",
    "    # Initialize the correlation sum\n",
    "    correlation_sum = 0.0\n",
    "    \n",
    "    # Generate the cartesian product of possible spin configurations\n",
    "    spin_states = np.array([0,1])\n",
    "    all_combinations = index_combinations(spin_states, num_spins)  # Get all combinations of spins\n",
    "    \n",
    "    # Loop through each combination of spins\n",
    "    for counter, spin_config in enumerate(all_combinations):\n",
    "        # Extract i and j based on the indices you want to compare\n",
    "        i, j = spin_config[index1], spin_config[index2]\n",
    "        \n",
    "        # Compute the correlation sum using (-1)^i * (-1)^j\n",
    "        correlation_sum += probabilities[counter] * (-1)**i * (-1)**j\n",
    "\n",
    "    return correlation_sum\n",
    "    \n",
    "\n",
    "bitstrings = np.array([\n",
    "    [0, 0],  # Up, Up\n",
    "    [0, 1],  # Up, Down\n",
    "    [0, 1],  # Up, Down\n",
    "    [1, 0],  # Down, Up\n",
    "    [1, 0],  # Down, Up\n",
    "    [1, 1],  # Down, Down\n",
    "])\n",
    "\n",
    "# Compute the correlation between spins at indices 0 and 1\n",
    "index1, index2 = 0, 1\n",
    "correlation = example2(bitstrings, index1, index2)\n",
    "\n",
    "print(\"Correlation between spins at indices {} and {}: {:.2f}\".format(index1, index2, correlation))\n"
   ]
  },
  {
   "cell_type": "code",
   "execution_count": 139,
   "metadata": {},
   "outputs": [
    {
     "name": "stdout",
     "output_type": "stream",
     "text": [
      "[1, 2, 2, 1]\n",
      "Correlation between spins at indices 0 and 1: -1.00\n"
     ]
    }
   ],
   "source": [
    "def count_alpha(bitstrings, all_combinations):\n",
    "    alpha = []\n",
    "    # Count the frequency of each unique spin configuration in bitstrings\n",
    "    for spin_config in all_combinations:\n",
    "        count = np.sum(np.all(bitstrings == spin_config, axis=1))  # Count occurrences of this spin configuration\n",
    "        alpha.append(count)\n",
    "    return alpha\n",
    "\n",
    "def example3(bitstrings, index1, index2):\n",
    "    \n",
    "    num_spins = len(bitstrings[0])\n",
    "\n",
    "    # Generate the cartesian product of possible spin configurations\n",
    "    spin_states = np.array([0,1])\n",
    "    all_combinations = index_combinations(spin_states, num_spins)  # Get all combinations of spins\n",
    "\n",
    "    alpha = count_alpha(bitstrings, all_combinations)\n",
    "    print(alpha)\n",
    "    norm = np.sqrt(len(bitstrings))\n",
    "    alphas_normalized = np.array(alpha) / norm  # Normalize amplitudes\n",
    "    probabilities = np.abs(alphas_normalized)**2  # Probability is the square of the amplitude\n",
    "    \n",
    "    # Initialize the correlation sum\n",
    "    correlation_sum = 0.0\n",
    "    \n",
    "    # Loop through each combination of spins\n",
    "    for counter, spin_config in enumerate(all_combinations):\n",
    "        # Extract i and j based on the indices you want to compare\n",
    "        i, j = spin_config[index1], spin_config[index2]\n",
    "        \n",
    "        # Compute the correlation sum using (-1)^i * (-1)^j\n",
    "        correlation_sum += probabilities[counter] * (-1)**i * (-1)**j\n",
    "\n",
    "    return correlation_sum\n",
    "    \n",
    "bitstrings = np.array([\n",
    "    [0, 0],  # Up, Up\n",
    "    [0, 1],  # Up, Down\n",
    "    [0, 1],  # Up, Down\n",
    "    [1, 0],  # Down, Up\n",
    "    [1, 0],  # Down, Up\n",
    "    [1, 1],  # Down, Down\n",
    "])\n",
    "# Compute the correlation between spins at indices 0 and 1\n",
    "index1, index2 = 0, 1\n",
    "correlation = example3(bitstrings, index1, index2)\n",
    "\n",
    "print(\"Correlation between spins at indices {} and {}: {:.2f}\".format(index1, index2, correlation))"
   ]
  },
  {
   "cell_type": "code",
   "execution_count": 155,
   "metadata": {},
   "outputs": [
    {
     "name": "stdout",
     "output_type": "stream",
     "text": [
      "[0, 2, 1, 1, 1, 0, 1, 0]\n",
      "Correlation between spins at indices 0 and 1: -0.67\n"
     ]
    }
   ],
   "source": [
    "\n",
    "#arbitrary third indice\n",
    "bitstrings = np.array([\n",
    "    [0, 0, 1],  # Up, Up\n",
    "    [0, 1, 0],  # Up, Down\n",
    "    [0, 1, 0],  # Up, Down\n",
    "    [1, 0, 0],  # Down, Up\n",
    "    [1, 0, 1],  # Down, Up\n",
    "    [1, 1, 0],  # Down, Down\n",
    "])\n",
    "\n",
    "# Compute the correlation between spins at indices 0 and 1\n",
    "index1, index2 = 0, 1\n",
    "correlation = example3(bitstrings, index1, index2)\n",
    "\n",
    "print(\"Correlation between spins at indices {} and {}: {:.2f}\".format(index1, index2, correlation))"
   ]
  },
  {
   "cell_type": "code",
   "execution_count": 172,
   "metadata": {},
   "outputs": [
    {
     "name": "stdout",
     "output_type": "stream",
     "text": [
      "[0, 0, 0, 0, 0, 0, 0, 1, 0, 0, 0, 0, 0, 1, 0, 0, 0, 0, 0, 0, 0, 0, 1, 0, 0, 0, 0, 0, 1, 0, 0, 0, 0, 0, 0, 1, 0, 0, 0, 0, 0, 1, 0, 0, 0, 0, 0, 0, 0, 0, 1, 0, 0, 0, 0, 0, 1, 0, 0, 0, 0, 0, 0, 0]\n",
      "Correlation between spins at indices 1 and 3: 0.00\n"
     ]
    }
   ],
   "source": [
    "# Lattice size\n",
    "N = 2\n",
    "M = 3\n",
    "\n",
    "count, bitstrings, minimum_energy, latticelist = lowest_energy(N,M)\n",
    "\n",
    "# Compute the correlation between spins at indices 0 and 1\n",
    "index1, index2 = 1, 3\n",
    "correlation = example3(bitstrings, index1, index2)\n",
    "\n",
    "print(\"Correlation between spins at indices {} and {}: {:.2f}\".format(index1, index2, correlation))"
   ]
  },
  {
   "cell_type": "code",
   "execution_count": 111,
   "metadata": {},
   "outputs": [
    {
     "name": "stdout",
     "output_type": "stream",
     "text": [
      "Spin Lattice:\n",
      " [[-1 -1]\n",
      " [ 1  1]]\n",
      "\n",
      "Bit String:  [0 0 1 1]\n",
      "Spin Lattice:\n",
      " [[-1  1]\n",
      " [-1  1]]\n",
      "\n",
      "Bit String:  [0 1 0 1]\n",
      "Spin Lattice:\n",
      " [[-1  1]\n",
      " [ 1 -1]]\n",
      "\n",
      "Bit String:  [0 1 1 0]\n",
      "Spin Lattice:\n",
      " [[ 1 -1]\n",
      " [-1  1]]\n",
      "\n",
      "Bit String:  [1 0 0 1]\n",
      "Spin Lattice:\n",
      " [[ 1 -1]\n",
      " [ 1 -1]]\n",
      "\n",
      "Bit String:  [1 0 1 0]\n",
      "Spin Lattice:\n",
      " [[ 1  1]\n",
      " [-1 -1]]\n",
      "\n",
      "Bit String:  [1 1 0 0]\n",
      "The minimum energy found was -4. It was found 6 times.\n",
      "The given bit string integer(s) were: [3, 5, 6, 9, 10, 12]\n",
      "\n",
      "Spin-Spin Correlation Matrix:\n",
      "[[ 1.         -0.33333333 -0.33333333 -0.33333333]\n",
      " [-0.33333333  1.         -0.33333333 -0.33333333]\n",
      " [-0.33333333 -0.33333333  1.         -0.33333333]\n",
      " [-0.33333333 -0.33333333 -0.33333333  1.        ]]\n"
     ]
    },
    {
     "ename": "TypeError",
     "evalue": "Invalid shape () for image data",
     "output_type": "error",
     "traceback": [
      "\u001b[1;31m---------------------------------------------------------------------------\u001b[0m",
      "\u001b[1;31mTypeError\u001b[0m                                 Traceback (most recent call last)",
      "Cell \u001b[1;32mIn[111], line 40\u001b[0m\n\u001b[0;32m     37\u001b[0m \u001b[38;5;28mprint\u001b[39m(\u001b[38;5;124m\"\u001b[39m\u001b[38;5;130;01m\\n\u001b[39;00m\u001b[38;5;124mSpin-Spin Correlation Matrix:\u001b[39m\u001b[38;5;124m\"\u001b[39m)\n\u001b[0;32m     38\u001b[0m \u001b[38;5;28mprint\u001b[39m(correlation_matrix)\n\u001b[1;32m---> 40\u001b[0m \u001b[43mplot_correlation_matrices\u001b[49m\u001b[43m(\u001b[49m\u001b[43mN\u001b[49m\u001b[43m,\u001b[49m\u001b[43m \u001b[49m\u001b[43mM\u001b[49m\u001b[43m,\u001b[49m\u001b[43m \u001b[49m\u001b[43mcorrelation_matrix\u001b[49m\u001b[43m)\u001b[49m\n",
      "Cell \u001b[1;32mIn[111], line 8\u001b[0m, in \u001b[0;36mplot_correlation_matrices\u001b[1;34m(N, M, correlation_matrix)\u001b[0m\n\u001b[0;32m      6\u001b[0m \u001b[38;5;28;01mfor\u001b[39;00m j \u001b[38;5;129;01min\u001b[39;00m \u001b[38;5;28mrange\u001b[39m(M):\n\u001b[0;32m      7\u001b[0m     ax \u001b[38;5;241m=\u001b[39m axes[i, j]  \u001b[38;5;66;03m# Get the subplot for this position\u001b[39;00m\n\u001b[1;32m----> 8\u001b[0m     cax \u001b[38;5;241m=\u001b[39m \u001b[43max\u001b[49m\u001b[38;5;241;43m.\u001b[39;49m\u001b[43mimshow\u001b[49m\u001b[43m(\u001b[49m\u001b[43mcorrelation_matrix\u001b[49m\u001b[43m[\u001b[49m\u001b[43mi\u001b[49m\u001b[43m,\u001b[49m\u001b[43m \u001b[49m\u001b[43mj\u001b[49m\u001b[43m]\u001b[49m\u001b[43m,\u001b[49m\u001b[43m \u001b[49m\u001b[43mcmap\u001b[49m\u001b[38;5;241;43m=\u001b[39;49m\u001b[38;5;124;43m'\u001b[39;49m\u001b[38;5;124;43mcoolwarm\u001b[39;49m\u001b[38;5;124;43m'\u001b[39;49m\u001b[43m,\u001b[49m\u001b[43m \u001b[49m\u001b[43mvmin\u001b[49m\u001b[38;5;241;43m=\u001b[39;49m\u001b[38;5;241;43m-\u001b[39;49m\u001b[38;5;241;43m1\u001b[39;49m\u001b[43m,\u001b[49m\u001b[43m \u001b[49m\u001b[43mvmax\u001b[49m\u001b[38;5;241;43m=\u001b[39;49m\u001b[38;5;241;43m1\u001b[39;49m\u001b[43m)\u001b[49m\n\u001b[0;32m      9\u001b[0m     ax\u001b[38;5;241m.\u001b[39mset_title(\u001b[38;5;124mf\u001b[39m\u001b[38;5;124m\"\u001b[39m\u001b[38;5;124mSpin (\u001b[39m\u001b[38;5;132;01m{\u001b[39;00mi\u001b[38;5;132;01m}\u001b[39;00m\u001b[38;5;124m,\u001b[39m\u001b[38;5;132;01m{\u001b[39;00mj\u001b[38;5;132;01m}\u001b[39;00m\u001b[38;5;124m)\u001b[39m\u001b[38;5;124m\"\u001b[39m, fontsize\u001b[38;5;241m=\u001b[39m\u001b[38;5;241m8\u001b[39m)\n\u001b[0;32m     10\u001b[0m     ax\u001b[38;5;241m.\u001b[39maxis(\u001b[38;5;124m'\u001b[39m\u001b[38;5;124moff\u001b[39m\u001b[38;5;124m'\u001b[39m)  \u001b[38;5;66;03m# Hide axis for better visualization\u001b[39;00m\n",
      "File \u001b[1;32m~\\AppData\\Local\\Packages\\PythonSoftwareFoundation.Python.3.11_qbz5n2kfra8p0\\LocalCache\\local-packages\\Python311\\site-packages\\matplotlib\\__init__.py:1478\u001b[0m, in \u001b[0;36m_preprocess_data.<locals>.inner\u001b[1;34m(ax, data, *args, **kwargs)\u001b[0m\n\u001b[0;32m   1475\u001b[0m \u001b[38;5;129m@functools\u001b[39m\u001b[38;5;241m.\u001b[39mwraps(func)\n\u001b[0;32m   1476\u001b[0m \u001b[38;5;28;01mdef\u001b[39;00m \u001b[38;5;21minner\u001b[39m(ax, \u001b[38;5;241m*\u001b[39margs, data\u001b[38;5;241m=\u001b[39m\u001b[38;5;28;01mNone\u001b[39;00m, \u001b[38;5;241m*\u001b[39m\u001b[38;5;241m*\u001b[39mkwargs):\n\u001b[0;32m   1477\u001b[0m     \u001b[38;5;28;01mif\u001b[39;00m data \u001b[38;5;129;01mis\u001b[39;00m \u001b[38;5;28;01mNone\u001b[39;00m:\n\u001b[1;32m-> 1478\u001b[0m         \u001b[38;5;28;01mreturn\u001b[39;00m \u001b[43mfunc\u001b[49m\u001b[43m(\u001b[49m\u001b[43max\u001b[49m\u001b[43m,\u001b[49m\u001b[43m \u001b[49m\u001b[38;5;241;43m*\u001b[39;49m\u001b[38;5;28;43mmap\u001b[39;49m\u001b[43m(\u001b[49m\u001b[43msanitize_sequence\u001b[49m\u001b[43m,\u001b[49m\u001b[43m \u001b[49m\u001b[43margs\u001b[49m\u001b[43m)\u001b[49m\u001b[43m,\u001b[49m\u001b[43m \u001b[49m\u001b[38;5;241;43m*\u001b[39;49m\u001b[38;5;241;43m*\u001b[39;49m\u001b[43mkwargs\u001b[49m\u001b[43m)\u001b[49m\n\u001b[0;32m   1480\u001b[0m     bound \u001b[38;5;241m=\u001b[39m new_sig\u001b[38;5;241m.\u001b[39mbind(ax, \u001b[38;5;241m*\u001b[39margs, \u001b[38;5;241m*\u001b[39m\u001b[38;5;241m*\u001b[39mkwargs)\n\u001b[0;32m   1481\u001b[0m     auto_label \u001b[38;5;241m=\u001b[39m (bound\u001b[38;5;241m.\u001b[39marguments\u001b[38;5;241m.\u001b[39mget(label_namer)\n\u001b[0;32m   1482\u001b[0m                   \u001b[38;5;129;01mor\u001b[39;00m bound\u001b[38;5;241m.\u001b[39mkwargs\u001b[38;5;241m.\u001b[39mget(label_namer))\n",
      "File \u001b[1;32m~\\AppData\\Local\\Packages\\PythonSoftwareFoundation.Python.3.11_qbz5n2kfra8p0\\LocalCache\\local-packages\\Python311\\site-packages\\matplotlib\\axes\\_axes.py:5759\u001b[0m, in \u001b[0;36mAxes.imshow\u001b[1;34m(self, X, cmap, norm, aspect, interpolation, alpha, vmin, vmax, origin, extent, interpolation_stage, filternorm, filterrad, resample, url, **kwargs)\u001b[0m\n\u001b[0;32m   5756\u001b[0m \u001b[38;5;28;01mif\u001b[39;00m aspect \u001b[38;5;129;01mis\u001b[39;00m \u001b[38;5;129;01mnot\u001b[39;00m \u001b[38;5;28;01mNone\u001b[39;00m:\n\u001b[0;32m   5757\u001b[0m     \u001b[38;5;28mself\u001b[39m\u001b[38;5;241m.\u001b[39mset_aspect(aspect)\n\u001b[1;32m-> 5759\u001b[0m \u001b[43mim\u001b[49m\u001b[38;5;241;43m.\u001b[39;49m\u001b[43mset_data\u001b[49m\u001b[43m(\u001b[49m\u001b[43mX\u001b[49m\u001b[43m)\u001b[49m\n\u001b[0;32m   5760\u001b[0m im\u001b[38;5;241m.\u001b[39mset_alpha(alpha)\n\u001b[0;32m   5761\u001b[0m \u001b[38;5;28;01mif\u001b[39;00m im\u001b[38;5;241m.\u001b[39mget_clip_path() \u001b[38;5;129;01mis\u001b[39;00m \u001b[38;5;28;01mNone\u001b[39;00m:\n\u001b[0;32m   5762\u001b[0m     \u001b[38;5;66;03m# image does not already have clipping set, clip to axes patch\u001b[39;00m\n",
      "File \u001b[1;32m~\\AppData\\Local\\Packages\\PythonSoftwareFoundation.Python.3.11_qbz5n2kfra8p0\\LocalCache\\local-packages\\Python311\\site-packages\\matplotlib\\image.py:723\u001b[0m, in \u001b[0;36m_ImageBase.set_data\u001b[1;34m(self, A)\u001b[0m\n\u001b[0;32m    721\u001b[0m \u001b[38;5;28;01mif\u001b[39;00m \u001b[38;5;28misinstance\u001b[39m(A, PIL\u001b[38;5;241m.\u001b[39mImage\u001b[38;5;241m.\u001b[39mImage):\n\u001b[0;32m    722\u001b[0m     A \u001b[38;5;241m=\u001b[39m pil_to_array(A)  \u001b[38;5;66;03m# Needed e.g. to apply png palette.\u001b[39;00m\n\u001b[1;32m--> 723\u001b[0m \u001b[38;5;28mself\u001b[39m\u001b[38;5;241m.\u001b[39m_A \u001b[38;5;241m=\u001b[39m \u001b[38;5;28;43mself\u001b[39;49m\u001b[38;5;241;43m.\u001b[39;49m\u001b[43m_normalize_image_array\u001b[49m\u001b[43m(\u001b[49m\u001b[43mA\u001b[49m\u001b[43m)\u001b[49m\n\u001b[0;32m    724\u001b[0m \u001b[38;5;28mself\u001b[39m\u001b[38;5;241m.\u001b[39m_imcache \u001b[38;5;241m=\u001b[39m \u001b[38;5;28;01mNone\u001b[39;00m\n\u001b[0;32m    725\u001b[0m \u001b[38;5;28mself\u001b[39m\u001b[38;5;241m.\u001b[39mstale \u001b[38;5;241m=\u001b[39m \u001b[38;5;28;01mTrue\u001b[39;00m\n",
      "File \u001b[1;32m~\\AppData\\Local\\Packages\\PythonSoftwareFoundation.Python.3.11_qbz5n2kfra8p0\\LocalCache\\local-packages\\Python311\\site-packages\\matplotlib\\image.py:693\u001b[0m, in \u001b[0;36m_ImageBase._normalize_image_array\u001b[1;34m(A)\u001b[0m\n\u001b[0;32m    691\u001b[0m     A \u001b[38;5;241m=\u001b[39m A\u001b[38;5;241m.\u001b[39msqueeze(\u001b[38;5;241m-\u001b[39m\u001b[38;5;241m1\u001b[39m)  \u001b[38;5;66;03m# If just (M, N, 1), assume scalar and apply colormap.\u001b[39;00m\n\u001b[0;32m    692\u001b[0m \u001b[38;5;28;01mif\u001b[39;00m \u001b[38;5;129;01mnot\u001b[39;00m (A\u001b[38;5;241m.\u001b[39mndim \u001b[38;5;241m==\u001b[39m \u001b[38;5;241m2\u001b[39m \u001b[38;5;129;01mor\u001b[39;00m A\u001b[38;5;241m.\u001b[39mndim \u001b[38;5;241m==\u001b[39m \u001b[38;5;241m3\u001b[39m \u001b[38;5;129;01mand\u001b[39;00m A\u001b[38;5;241m.\u001b[39mshape[\u001b[38;5;241m-\u001b[39m\u001b[38;5;241m1\u001b[39m] \u001b[38;5;129;01min\u001b[39;00m [\u001b[38;5;241m3\u001b[39m, \u001b[38;5;241m4\u001b[39m]):\n\u001b[1;32m--> 693\u001b[0m     \u001b[38;5;28;01mraise\u001b[39;00m \u001b[38;5;167;01mTypeError\u001b[39;00m(\u001b[38;5;124mf\u001b[39m\u001b[38;5;124m\"\u001b[39m\u001b[38;5;124mInvalid shape \u001b[39m\u001b[38;5;132;01m{\u001b[39;00mA\u001b[38;5;241m.\u001b[39mshape\u001b[38;5;132;01m}\u001b[39;00m\u001b[38;5;124m for image data\u001b[39m\u001b[38;5;124m\"\u001b[39m)\n\u001b[0;32m    694\u001b[0m \u001b[38;5;28;01mif\u001b[39;00m A\u001b[38;5;241m.\u001b[39mndim \u001b[38;5;241m==\u001b[39m \u001b[38;5;241m3\u001b[39m:\n\u001b[0;32m    695\u001b[0m     \u001b[38;5;66;03m# If the input data has values outside the valid range (after\u001b[39;00m\n\u001b[0;32m    696\u001b[0m     \u001b[38;5;66;03m# normalisation), we issue a warning and then clip X to the bounds\u001b[39;00m\n\u001b[0;32m    697\u001b[0m     \u001b[38;5;66;03m# - otherwise casting wraps extreme values, hiding outliers and\u001b[39;00m\n\u001b[0;32m    698\u001b[0m     \u001b[38;5;66;03m# making reliable interpretation impossible.\u001b[39;00m\n\u001b[0;32m    699\u001b[0m     high \u001b[38;5;241m=\u001b[39m \u001b[38;5;241m255\u001b[39m \u001b[38;5;28;01mif\u001b[39;00m np\u001b[38;5;241m.\u001b[39missubdtype(A\u001b[38;5;241m.\u001b[39mdtype, np\u001b[38;5;241m.\u001b[39minteger) \u001b[38;5;28;01melse\u001b[39;00m \u001b[38;5;241m1\u001b[39m\n",
      "\u001b[1;31mTypeError\u001b[0m: Invalid shape () for image data"
     ]
    },
    {
     "data": {
      "image/png": "[encoded data removed]",
      "text/plain": [
       "<Figure size 1500x1000 with 4 Axes>"
      ]
     },
     "metadata": {},
     "output_type": "display_data"
    }
   ],
   "source": [
    "def plot_correlation_matrices(N, M, correlation_matrix):\n",
    "    \n",
    "    fig, axes = plt.subplots(N, M, figsize=(15, 10))  # Create a grid of subplots\n",
    "    \n",
    "    for i in range(N):\n",
    "        for j in range(M):\n",
    "            ax = axes[i, j]  # Get the subplot for this position\n",
    "            cax = ax.imshow(correlation_matrix[i, j], cmap='coolwarm', vmin=-1, vmax=1)\n",
    "            ax.set_title(f\"Spin ({i},{j})\", fontsize=8)\n",
    "            ax.axis('off')  # Hide axis for better visualization\n",
    "    \n",
    "    # Add a colorbar outside the grid\n",
    "    fig.colorbar(cax, ax=axes.ravel().tolist(), orientation='vertical', fraction=0.02, pad=0.04, label=\"Spin-Spin Correlation\")\n",
    "    \n",
    "    # Adjust layout to prevent overlap\n",
    "    plt.tight_layout(rect=[0, 0, 0.85, 1])  # Leave space for the colorbar\n",
    "    plt.show()\n",
    "\n",
    "# Lattice size\n",
    "N = 2\n",
    "M = 2\n",
    "\n",
    "count, bitstrings, minimum_energy, latticelist = lowest_energy(N, M)\n",
    "\n",
    "for string in latticelist:\n",
    "\n",
    "    bit_string = lattice_generator(string, N, M) #101011110\n",
    "    spin_lattice = bit_string.reshape(N, M)\n",
    "    spin_lattice = np.where(spin_lattice == 0, -1, 1) # Convert 0 to 1 (up spin) and 1 to -1 (down spin)\n",
    "    print(\"Spin Lattice:\\n\", spin_lattice)\n",
    "    print(\"\\nBit String: \", bit_string)\n",
    "\n",
    "print(f\"The minimum energy found was {minimum_energy}. It was found {count} times.\")\n",
    "print(\"The given bit string integer(s) were:\", latticelist)\n",
    "\n",
    "correlation_matrix = correlated_spin_probabilities(bitstrings, N, M)\n",
    "print(\"\\nSpin-Spin Correlation Matrix:\")\n",
    "print(correlation_matrix)\n",
    "\n",
    "plot_correlation_matrices(N, M, correlation_matrix)\n"
   ]
  }
 ],
 "metadata": {
  "kernelspec": {
   "display_name": "Python 3",
   "language": "python",
   "name": "python3"
  },
  "language_info": {
   "codemirror_mode": {
    "name": "ipython",
    "version": 3
   },
   "file_extension": ".py",
   "mimetype": "text/x-python",
   "name": "python",
   "nbconvert_exporter": "python",
   "pygments_lexer": "ipython3",
   "version": "3.11.9"
  }
 },
 "nbformat": 4,
 "nbformat_minor": 2
}
