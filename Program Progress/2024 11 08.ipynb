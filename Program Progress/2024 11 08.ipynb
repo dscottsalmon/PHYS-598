{
 "cells": [
  {
   "cell_type": "code",
   "execution_count": 1,
   "metadata": {},
   "outputs": [],
   "source": [
    "import numpy as np\n",
    "import matplotlib.pyplot as plt\n",
    "import scipy as sp\n"
   ]
  },
  {
   "cell_type": "markdown",
   "metadata": {},
   "source": [
    "- convert an integer to bit string for bit string generation\n",
    "- fix directions\n",
    "- N x M matrix\n",
    "- save lowest energies and configurations\n",
    "- verify it works with -J (schrodingers cat)"
   ]
  },
  {
   "cell_type": "code",
   "execution_count": null,
   "metadata": {},
   "outputs": [],
   "source": []
  },
  {
   "cell_type": "markdown",
   "metadata": {},
   "source": [
    "Step 1: Define the Lattice Structure\n",
    "- Lattice Shape (number indicates a dipole exists, 0 indicates no dipole)\n",
    "- Spin states (each dipole will be represented by an entry in the lattice with a value of either +1 or -1)\n",
    "\n",
    "Step 2: Hamiltonian Construction\n",
    "\n",
    "- The hamiltonian describes the total energy of the system, accounting for interactions between neightboring spins. The enerrgy interaction between two neightboring spins is typically proportional to the product of their spin states (i.e. $H = -J\\sum S_iS_j$, where $J$ is a coupling constant and $S_i$ and $S_j$ are the spin states of neighbors.)\n",
    "- Once lattice is constructed, we need to filter out which dipoles are neighbors. For a 2D array, a dipole can interact with its left, right, top, below, top right, top left, bottom right, bottom left neighbors.\n",
    "\n",
    "Step 3: Calculate total energy\n",
    "\n",
    "- Use $H = -J\\sum S_iS_j$ formula and sum up the energy contributions from every dipole in the lattice to determine the \"total energy\""
   ]
  },
  {
   "cell_type": "code",
   "execution_count": null,
   "metadata": {},
   "outputs": [
    {
     "name": "stdout",
     "output_type": "stream",
     "text": [
      "Bit String:\n",
      " [1 0 1 1 0 0 0 1 1]\n",
      "\n",
      "Spin Lattice:\n",
      " [[-1  1 -1]\n",
      " [-1  1  1]\n",
      " [ 1 -1 -1]]\n",
      "\n",
      "Total Energy: 6\n",
      "\n",
      "Total Energy (periodic boundary) : 4\n"
     ]
    }
   ],
   "source": [
    "# Step 1: Generate a random NxN bit string\n",
    "\n",
    "np.random.seed(69420)\n",
    "\n",
    "N = 3 # Lattice size\n",
    "bit_string = np.random.choice([0, 1], size=(N * N))  # Random bit string of 0s and 1s\n",
    "\n",
    "lattice = bit_string.reshape(N, N)\n",
    "spin_lattice = np.where(lattice == 0, 1, -1) # Convert 0 to 1 (up spin) and 1 to -1 (down spin)\n",
    "\n",
    "def hamiltonian(spin_lattice, J):\n",
    "\n",
    "    total_energy = 0\n",
    "    rows, cols = spin_lattice.shape\n",
    "\n",
    "    for i in range(rows):\n",
    "        for j in range(cols):\n",
    "            if spin_lattice[i][j] != 0:  # Only consider if current index is a dipole\n",
    "                \n",
    "                neighbors = [\n",
    "                    (i, j + 1),   # Right\n",
    "                    (i + 1, j),   # Down\n",
    "                    (i + 1, j + 1),  # Down-Right\n",
    "                    (i + 1, j - 1)   # Down-Left\n",
    "                ]\n",
    "                \n",
    "                for ni, nj in neighbors:\n",
    "                    if 0 <= ni < rows and 0 <= nj < cols:  # Check boundaries\n",
    "                        total_energy += -J * spin_lattice[i][j] * spin_lattice[ni][nj]\n",
    "\n",
    "    return total_energy\n",
    "\n",
    "J = 1  # Coupling constant\n",
    "total_energy = hamiltonian(spin_lattice, J)\n",
    "\n",
    "print(\"Bit String:\\n\", bit_string)\n",
    "print(\"\\nSpin Lattice:\\n\", spin_lattice)\n",
    "print(\"\\nTotal Energy:\", total_energy)\n",
    "\n",
    "def hamiltonian_boundary(spin_lattice, J):\n",
    "\n",
    "    total_energy = 0\n",
    "    rows, cols = spin_lattice.shape\n",
    "\n",
    "    for i in range(rows):\n",
    "        for j in range(cols):\n",
    "            if spin_lattice[i][j] != 0:  # Only consider if current index is a dipole\n",
    "                \n",
    "                # Neighbors with periodic boundary conditions\n",
    "                neighbors = [\n",
    "                    ((i + 0) % rows, (j + 1) % cols),  # Right\n",
    "                    ((i + 1) % rows, (j + 0) % cols),  # Down\n",
    "                    ((i + 1) % rows, (j + 1) % cols),  # Down-Right\n",
    "                    ((i + 1) % rows, (j - 1) % cols)   # Down-Left\n",
    "                ]\n",
    "                \n",
    "                for ni, nj in neighbors:\n",
    "                    total_energy += -J * spin_lattice[i][j] * spin_lattice[ni][nj]\n",
    "\n",
    "    return total_energy\n",
    "\n",
    "total_energy = hamiltonian_boundary(spin_lattice, J)\n",
    "\n",
    "print(\"\\nTotal Energy (periodic boundary) :\", total_energy)"
   ]
  },
  {
   "cell_type": "markdown",
   "metadata": {},
   "source": [
    "Suppose we are examining dipole at (2,2) in the lattice. It's right neighbour will be (2,3), however column 3 is out of bounds. If we plug into the formula, we get:\n",
    "$$j_r = ( (2+1) \\% 3) = 0$$\n",
    "\n",
    " so neighbour is at (2,0), which is what we're looking for."
   ]
  },
  {
   "cell_type": "code",
   "execution_count": 6,
   "metadata": {},
   "outputs": [
    {
     "name": "stdout",
     "output_type": "stream",
     "text": [
      "Triangular Lattice:\n",
      "\n",
      "[[ 1 -1 -1 -1 -1]\n",
      " [ 1  1 -1 -1 -1]\n",
      " [ 1  1  1 -1 -1]\n",
      " [ 1  1  1  1 -1]\n",
      " [ 1  1  1  1  1]]\n",
      "\n",
      "Total Energy with Frustration: -12\n"
     ]
    }
   ],
   "source": [
    "def create_triangular_lattice(N):\n",
    "    lattice = np.zeros((N, N))  # Start with all zeros\n",
    "    \n",
    "    # Fill a triangular pattern (values will be 1 or -1)\n",
    "    for i in range(N):\n",
    "        for j in range(i+1):  # Make a triangular pattern\n",
    "            lattice[i, j] = 1\n",
    "    return lattice\n",
    "\n",
    "# Step 1: Generate a random NxN bit string\n",
    "N = 5  # Lattice size (can change this value)\n",
    "bit_string = np.random.choice([0, 1], size=(N * N))  # Random bit string of 0s and 1s\n",
    "\n",
    "# Create a triangular lattice and convert to spin values\n",
    "lattice = create_triangular_lattice(N)\n",
    "spin_lattice = np.where(lattice == 1, 1, -1)  # Convert to 1 for up-spin, -1 for down-spin\n",
    "\n",
    "# Step 2: Hamiltonian calculation with periodic boundary conditions\n",
    "def hamiltonian_with_periodicity(spin_lattice, J):\n",
    "    total_energy = 0\n",
    "    rows, cols = spin_lattice.shape\n",
    "\n",
    "    for i in range(rows):\n",
    "        for j in range(cols):\n",
    "            if spin_lattice[i][j] != 0:  # Only consider if current index is a dipole\n",
    "                \n",
    "                neighbors_1 = [\n",
    "                    (i, (j + 1) % cols),  # Right (wrap around)\n",
    "                    ((i + 1) % rows, j),  # Down (wrap around)\n",
    "                ]\n",
    "\n",
    "                neighbors_2 = [\n",
    "                    ((i + 1) % rows, (j - 1) % cols),  # Bottom-left\n",
    "                    ((i + 1) % rows, (j + 1) % cols)   # Bottom-right\n",
    "                ]\n",
    "\n",
    "                # First, process nearest-neighbor interactions\n",
    "                for ni, nj in neighbors_1:\n",
    "                    total_energy += -J * spin_lattice[i][j] * spin_lattice[ni][nj]  # Ferromagnetic\n",
    "                \n",
    "                # Then, process next-nearest-neighbor interactions\n",
    "                for ni, nj in neighbors_2:\n",
    "                    total_energy += J * spin_lattice[i][j] * spin_lattice[ni][nj]  # Competing interaction (could be ferromagnetic or anti-ferromagnetic)\n",
    "    \n",
    "    return total_energy\n",
    "\n",
    "total_energy = hamiltonian_with_periodicity(spin_lattice, J)\n",
    "# Output the results\n",
    "print(\"Triangular Lattice:\\n\")\n",
    "print(spin_lattice)\n",
    "print(\"\\nTotal Energy with Frustration:\", total_energy)"
   ]
  }
 ],
 "metadata": {
  "kernelspec": {
   "display_name": "Python 3",
   "language": "python",
   "name": "python3"
  },
  "language_info": {
   "codemirror_mode": {
    "name": "ipython",
    "version": 3
   },
   "file_extension": ".py",
   "mimetype": "text/x-python",
   "name": "python",
   "nbconvert_exporter": "python",
   "pygments_lexer": "ipython3",
   "version": "3.12.7"
  }
 },
 "nbformat": 4,
 "nbformat_minor": 2
}
